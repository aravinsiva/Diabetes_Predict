{
 "cells": [
  {
   "cell_type": "code",
   "execution_count": 1,
   "metadata": {},
   "outputs": [
    {
     "name": "stderr",
     "output_type": "stream",
     "text": [
      "Using TensorFlow backend.\n"
     ]
    }
   ],
   "source": [
    "import keras\n",
    "import sys\n",
    "import numpy as np\n",
    "import sklearn\n",
    "import pandas as pd\n",
    "\n"
   ]
  },
  {
   "cell_type": "code",
   "execution_count": 2,
   "metadata": {},
   "outputs": [],
   "source": [
    "#IMPORT THE DIABETES DATASET\n",
    "url= 'https://raw.githubusercontent.com/jbrownlee/Datasets/master/pima-indians-diabetes.data.csv'\n",
    "names = ['n_preganant','glucose_concentration','blood_pressure(mm Hg)', \n",
    "         'skin_thickness','serum_insulin(mu U/ml)','BMI','pedrigree_function',\n",
    "        'age','class']\n",
    "\n",
    "df= pd.read_csv(url,names=names)"
   ]
  },
  {
   "cell_type": "code",
   "execution_count": 3,
   "metadata": {},
   "outputs": [
    {
     "data": {
      "text/html": [
       "<div>\n",
       "<style scoped>\n",
       "    .dataframe tbody tr th:only-of-type {\n",
       "        vertical-align: middle;\n",
       "    }\n",
       "\n",
       "    .dataframe tbody tr th {\n",
       "        vertical-align: top;\n",
       "    }\n",
       "\n",
       "    .dataframe thead th {\n",
       "        text-align: right;\n",
       "    }\n",
       "</style>\n",
       "<table border=\"1\" class=\"dataframe\">\n",
       "  <thead>\n",
       "    <tr style=\"text-align: right;\">\n",
       "      <th></th>\n",
       "      <th>n_preganant</th>\n",
       "      <th>glucose_concentration</th>\n",
       "      <th>blood_pressure(mm Hg)</th>\n",
       "      <th>skin_thickness</th>\n",
       "      <th>serum_insulin(mu U/ml)</th>\n",
       "      <th>BMI</th>\n",
       "      <th>pedrigree_function</th>\n",
       "      <th>age</th>\n",
       "      <th>class</th>\n",
       "    </tr>\n",
       "  </thead>\n",
       "  <tbody>\n",
       "    <tr>\n",
       "      <th>count</th>\n",
       "      <td>768.000000</td>\n",
       "      <td>768.000000</td>\n",
       "      <td>768.000000</td>\n",
       "      <td>768.000000</td>\n",
       "      <td>768.000000</td>\n",
       "      <td>768.000000</td>\n",
       "      <td>768.000000</td>\n",
       "      <td>768.000000</td>\n",
       "      <td>768.000000</td>\n",
       "    </tr>\n",
       "    <tr>\n",
       "      <th>mean</th>\n",
       "      <td>3.845052</td>\n",
       "      <td>120.894531</td>\n",
       "      <td>69.105469</td>\n",
       "      <td>20.536458</td>\n",
       "      <td>79.799479</td>\n",
       "      <td>31.992578</td>\n",
       "      <td>0.471876</td>\n",
       "      <td>33.240885</td>\n",
       "      <td>0.348958</td>\n",
       "    </tr>\n",
       "    <tr>\n",
       "      <th>std</th>\n",
       "      <td>3.369578</td>\n",
       "      <td>31.972618</td>\n",
       "      <td>19.355807</td>\n",
       "      <td>15.952218</td>\n",
       "      <td>115.244002</td>\n",
       "      <td>7.884160</td>\n",
       "      <td>0.331329</td>\n",
       "      <td>11.760232</td>\n",
       "      <td>0.476951</td>\n",
       "    </tr>\n",
       "    <tr>\n",
       "      <th>min</th>\n",
       "      <td>0.000000</td>\n",
       "      <td>0.000000</td>\n",
       "      <td>0.000000</td>\n",
       "      <td>0.000000</td>\n",
       "      <td>0.000000</td>\n",
       "      <td>0.000000</td>\n",
       "      <td>0.078000</td>\n",
       "      <td>21.000000</td>\n",
       "      <td>0.000000</td>\n",
       "    </tr>\n",
       "    <tr>\n",
       "      <th>25%</th>\n",
       "      <td>1.000000</td>\n",
       "      <td>99.000000</td>\n",
       "      <td>62.000000</td>\n",
       "      <td>0.000000</td>\n",
       "      <td>0.000000</td>\n",
       "      <td>27.300000</td>\n",
       "      <td>0.243750</td>\n",
       "      <td>24.000000</td>\n",
       "      <td>0.000000</td>\n",
       "    </tr>\n",
       "    <tr>\n",
       "      <th>50%</th>\n",
       "      <td>3.000000</td>\n",
       "      <td>117.000000</td>\n",
       "      <td>72.000000</td>\n",
       "      <td>23.000000</td>\n",
       "      <td>30.500000</td>\n",
       "      <td>32.000000</td>\n",
       "      <td>0.372500</td>\n",
       "      <td>29.000000</td>\n",
       "      <td>0.000000</td>\n",
       "    </tr>\n",
       "    <tr>\n",
       "      <th>75%</th>\n",
       "      <td>6.000000</td>\n",
       "      <td>140.250000</td>\n",
       "      <td>80.000000</td>\n",
       "      <td>32.000000</td>\n",
       "      <td>127.250000</td>\n",
       "      <td>36.600000</td>\n",
       "      <td>0.626250</td>\n",
       "      <td>41.000000</td>\n",
       "      <td>1.000000</td>\n",
       "    </tr>\n",
       "    <tr>\n",
       "      <th>max</th>\n",
       "      <td>17.000000</td>\n",
       "      <td>199.000000</td>\n",
       "      <td>122.000000</td>\n",
       "      <td>99.000000</td>\n",
       "      <td>846.000000</td>\n",
       "      <td>67.100000</td>\n",
       "      <td>2.420000</td>\n",
       "      <td>81.000000</td>\n",
       "      <td>1.000000</td>\n",
       "    </tr>\n",
       "  </tbody>\n",
       "</table>\n",
       "</div>"
      ],
      "text/plain": [
       "       n_preganant  glucose_concentration  blood_pressure(mm Hg)  \\\n",
       "count   768.000000             768.000000             768.000000   \n",
       "mean      3.845052             120.894531              69.105469   \n",
       "std       3.369578              31.972618              19.355807   \n",
       "min       0.000000               0.000000               0.000000   \n",
       "25%       1.000000              99.000000              62.000000   \n",
       "50%       3.000000             117.000000              72.000000   \n",
       "75%       6.000000             140.250000              80.000000   \n",
       "max      17.000000             199.000000             122.000000   \n",
       "\n",
       "       skin_thickness  serum_insulin(mu U/ml)         BMI  pedrigree_function  \\\n",
       "count      768.000000              768.000000  768.000000          768.000000   \n",
       "mean        20.536458               79.799479   31.992578            0.471876   \n",
       "std         15.952218              115.244002    7.884160            0.331329   \n",
       "min          0.000000                0.000000    0.000000            0.078000   \n",
       "25%          0.000000                0.000000   27.300000            0.243750   \n",
       "50%         23.000000               30.500000   32.000000            0.372500   \n",
       "75%         32.000000              127.250000   36.600000            0.626250   \n",
       "max         99.000000              846.000000   67.100000            2.420000   \n",
       "\n",
       "              age       class  \n",
       "count  768.000000  768.000000  \n",
       "mean    33.240885    0.348958  \n",
       "std     11.760232    0.476951  \n",
       "min     21.000000    0.000000  \n",
       "25%     24.000000    0.000000  \n",
       "50%     29.000000    0.000000  \n",
       "75%     41.000000    1.000000  \n",
       "max     81.000000    1.000000  "
      ]
     },
     "execution_count": 3,
     "metadata": {},
     "output_type": "execute_result"
    }
   ],
   "source": [
    "df.describe()\n"
   ]
  },
  {
   "cell_type": "code",
   "execution_count": 4,
   "metadata": {},
   "outputs": [
    {
     "data": {
      "text/html": [
       "<div>\n",
       "<style scoped>\n",
       "    .dataframe tbody tr th:only-of-type {\n",
       "        vertical-align: middle;\n",
       "    }\n",
       "\n",
       "    .dataframe tbody tr th {\n",
       "        vertical-align: top;\n",
       "    }\n",
       "\n",
       "    .dataframe thead th {\n",
       "        text-align: right;\n",
       "    }\n",
       "</style>\n",
       "<table border=\"1\" class=\"dataframe\">\n",
       "  <thead>\n",
       "    <tr style=\"text-align: right;\">\n",
       "      <th></th>\n",
       "      <th>n_preganant</th>\n",
       "      <th>glucose_concentration</th>\n",
       "      <th>blood_pressure(mm Hg)</th>\n",
       "      <th>skin_thickness</th>\n",
       "      <th>serum_insulin(mu U/ml)</th>\n",
       "      <th>BMI</th>\n",
       "      <th>pedrigree_function</th>\n",
       "      <th>age</th>\n",
       "      <th>class</th>\n",
       "    </tr>\n",
       "  </thead>\n",
       "  <tbody>\n",
       "    <tr>\n",
       "      <th>75</th>\n",
       "      <td>1</td>\n",
       "      <td>0</td>\n",
       "      <td>48</td>\n",
       "      <td>20</td>\n",
       "      <td>0</td>\n",
       "      <td>24.7</td>\n",
       "      <td>0.140</td>\n",
       "      <td>22</td>\n",
       "      <td>0</td>\n",
       "    </tr>\n",
       "    <tr>\n",
       "      <th>182</th>\n",
       "      <td>1</td>\n",
       "      <td>0</td>\n",
       "      <td>74</td>\n",
       "      <td>20</td>\n",
       "      <td>23</td>\n",
       "      <td>27.7</td>\n",
       "      <td>0.299</td>\n",
       "      <td>21</td>\n",
       "      <td>0</td>\n",
       "    </tr>\n",
       "    <tr>\n",
       "      <th>342</th>\n",
       "      <td>1</td>\n",
       "      <td>0</td>\n",
       "      <td>68</td>\n",
       "      <td>35</td>\n",
       "      <td>0</td>\n",
       "      <td>32.0</td>\n",
       "      <td>0.389</td>\n",
       "      <td>22</td>\n",
       "      <td>0</td>\n",
       "    </tr>\n",
       "    <tr>\n",
       "      <th>349</th>\n",
       "      <td>5</td>\n",
       "      <td>0</td>\n",
       "      <td>80</td>\n",
       "      <td>32</td>\n",
       "      <td>0</td>\n",
       "      <td>41.0</td>\n",
       "      <td>0.346</td>\n",
       "      <td>37</td>\n",
       "      <td>1</td>\n",
       "    </tr>\n",
       "    <tr>\n",
       "      <th>502</th>\n",
       "      <td>6</td>\n",
       "      <td>0</td>\n",
       "      <td>68</td>\n",
       "      <td>41</td>\n",
       "      <td>0</td>\n",
       "      <td>39.0</td>\n",
       "      <td>0.727</td>\n",
       "      <td>41</td>\n",
       "      <td>1</td>\n",
       "    </tr>\n",
       "  </tbody>\n",
       "</table>\n",
       "</div>"
      ],
      "text/plain": [
       "     n_preganant  glucose_concentration  blood_pressure(mm Hg)  \\\n",
       "75             1                      0                     48   \n",
       "182            1                      0                     74   \n",
       "342            1                      0                     68   \n",
       "349            5                      0                     80   \n",
       "502            6                      0                     68   \n",
       "\n",
       "     skin_thickness  serum_insulin(mu U/ml)   BMI  pedrigree_function  age  \\\n",
       "75               20                       0  24.7               0.140   22   \n",
       "182              20                      23  27.7               0.299   21   \n",
       "342              35                       0  32.0               0.389   22   \n",
       "349              32                       0  41.0               0.346   37   \n",
       "502              41                       0  39.0               0.727   41   \n",
       "\n",
       "     class  \n",
       "75       0  \n",
       "182      0  \n",
       "342      0  \n",
       "349      1  \n",
       "502      1  "
      ]
     },
     "execution_count": 4,
     "metadata": {},
     "output_type": "execute_result"
    }
   ],
   "source": [
    "#BEGIN DATA CLEANING AND PREPROCESSING \n",
    "df[df['glucose_concentration']==0]"
   ]
  },
  {
   "cell_type": "code",
   "execution_count": 5,
   "metadata": {},
   "outputs": [
    {
     "data": {
      "text/html": [
       "<div>\n",
       "<style scoped>\n",
       "    .dataframe tbody tr th:only-of-type {\n",
       "        vertical-align: middle;\n",
       "    }\n",
       "\n",
       "    .dataframe tbody tr th {\n",
       "        vertical-align: top;\n",
       "    }\n",
       "\n",
       "    .dataframe thead th {\n",
       "        text-align: right;\n",
       "    }\n",
       "</style>\n",
       "<table border=\"1\" class=\"dataframe\">\n",
       "  <thead>\n",
       "    <tr style=\"text-align: right;\">\n",
       "      <th></th>\n",
       "      <th>n_preganant</th>\n",
       "      <th>glucose_concentration</th>\n",
       "      <th>blood_pressure(mm Hg)</th>\n",
       "      <th>skin_thickness</th>\n",
       "      <th>serum_insulin(mu U/ml)</th>\n",
       "      <th>BMI</th>\n",
       "      <th>pedrigree_function</th>\n",
       "      <th>age</th>\n",
       "      <th>class</th>\n",
       "    </tr>\n",
       "  </thead>\n",
       "  <tbody>\n",
       "    <tr>\n",
       "      <th>count</th>\n",
       "      <td>768.000000</td>\n",
       "      <td>763.000000</td>\n",
       "      <td>733.000000</td>\n",
       "      <td>541.000000</td>\n",
       "      <td>394.000000</td>\n",
       "      <td>757.000000</td>\n",
       "      <td>768.000000</td>\n",
       "      <td>768.000000</td>\n",
       "      <td>768.000000</td>\n",
       "    </tr>\n",
       "    <tr>\n",
       "      <th>mean</th>\n",
       "      <td>3.845052</td>\n",
       "      <td>121.686763</td>\n",
       "      <td>72.405184</td>\n",
       "      <td>29.153420</td>\n",
       "      <td>155.548223</td>\n",
       "      <td>32.457464</td>\n",
       "      <td>0.471876</td>\n",
       "      <td>33.240885</td>\n",
       "      <td>0.348958</td>\n",
       "    </tr>\n",
       "    <tr>\n",
       "      <th>std</th>\n",
       "      <td>3.369578</td>\n",
       "      <td>30.535641</td>\n",
       "      <td>12.382158</td>\n",
       "      <td>10.476982</td>\n",
       "      <td>118.775855</td>\n",
       "      <td>6.924988</td>\n",
       "      <td>0.331329</td>\n",
       "      <td>11.760232</td>\n",
       "      <td>0.476951</td>\n",
       "    </tr>\n",
       "    <tr>\n",
       "      <th>min</th>\n",
       "      <td>0.000000</td>\n",
       "      <td>44.000000</td>\n",
       "      <td>24.000000</td>\n",
       "      <td>7.000000</td>\n",
       "      <td>14.000000</td>\n",
       "      <td>18.200000</td>\n",
       "      <td>0.078000</td>\n",
       "      <td>21.000000</td>\n",
       "      <td>0.000000</td>\n",
       "    </tr>\n",
       "    <tr>\n",
       "      <th>25%</th>\n",
       "      <td>1.000000</td>\n",
       "      <td>99.000000</td>\n",
       "      <td>64.000000</td>\n",
       "      <td>22.000000</td>\n",
       "      <td>76.250000</td>\n",
       "      <td>27.500000</td>\n",
       "      <td>0.243750</td>\n",
       "      <td>24.000000</td>\n",
       "      <td>0.000000</td>\n",
       "    </tr>\n",
       "    <tr>\n",
       "      <th>50%</th>\n",
       "      <td>3.000000</td>\n",
       "      <td>117.000000</td>\n",
       "      <td>72.000000</td>\n",
       "      <td>29.000000</td>\n",
       "      <td>125.000000</td>\n",
       "      <td>32.300000</td>\n",
       "      <td>0.372500</td>\n",
       "      <td>29.000000</td>\n",
       "      <td>0.000000</td>\n",
       "    </tr>\n",
       "    <tr>\n",
       "      <th>75%</th>\n",
       "      <td>6.000000</td>\n",
       "      <td>141.000000</td>\n",
       "      <td>80.000000</td>\n",
       "      <td>36.000000</td>\n",
       "      <td>190.000000</td>\n",
       "      <td>36.600000</td>\n",
       "      <td>0.626250</td>\n",
       "      <td>41.000000</td>\n",
       "      <td>1.000000</td>\n",
       "    </tr>\n",
       "    <tr>\n",
       "      <th>max</th>\n",
       "      <td>17.000000</td>\n",
       "      <td>199.000000</td>\n",
       "      <td>122.000000</td>\n",
       "      <td>99.000000</td>\n",
       "      <td>846.000000</td>\n",
       "      <td>67.100000</td>\n",
       "      <td>2.420000</td>\n",
       "      <td>81.000000</td>\n",
       "      <td>1.000000</td>\n",
       "    </tr>\n",
       "  </tbody>\n",
       "</table>\n",
       "</div>"
      ],
      "text/plain": [
       "       n_preganant  glucose_concentration  blood_pressure(mm Hg)  \\\n",
       "count   768.000000             763.000000             733.000000   \n",
       "mean      3.845052             121.686763              72.405184   \n",
       "std       3.369578              30.535641              12.382158   \n",
       "min       0.000000              44.000000              24.000000   \n",
       "25%       1.000000              99.000000              64.000000   \n",
       "50%       3.000000             117.000000              72.000000   \n",
       "75%       6.000000             141.000000              80.000000   \n",
       "max      17.000000             199.000000             122.000000   \n",
       "\n",
       "       skin_thickness  serum_insulin(mu U/ml)         BMI  pedrigree_function  \\\n",
       "count      541.000000              394.000000  757.000000          768.000000   \n",
       "mean        29.153420              155.548223   32.457464            0.471876   \n",
       "std         10.476982              118.775855    6.924988            0.331329   \n",
       "min          7.000000               14.000000   18.200000            0.078000   \n",
       "25%         22.000000               76.250000   27.500000            0.243750   \n",
       "50%         29.000000              125.000000   32.300000            0.372500   \n",
       "75%         36.000000              190.000000   36.600000            0.626250   \n",
       "max         99.000000              846.000000   67.100000            2.420000   \n",
       "\n",
       "              age       class  \n",
       "count  768.000000  768.000000  \n",
       "mean    33.240885    0.348958  \n",
       "std     11.760232    0.476951  \n",
       "min     21.000000    0.000000  \n",
       "25%     24.000000    0.000000  \n",
       "50%     29.000000    0.000000  \n",
       "75%     41.000000    1.000000  \n",
       "max     81.000000    1.000000  "
      ]
     },
     "execution_count": 5,
     "metadata": {},
     "output_type": "execute_result"
    }
   ],
   "source": [
    "#drop certain zero values\n",
    "columns = ['glucose_concentration','blood_pressure(mm Hg)', \n",
    "         'skin_thickness','serum_insulin(mu U/ml)','BMI']\n",
    "\n",
    "for col in columns:\n",
    "    df[col].replace(0,np.NaN,inplace=True)\n",
    "    \n",
    "df.describe()"
   ]
  },
  {
   "cell_type": "code",
   "execution_count": 6,
   "metadata": {},
   "outputs": [
    {
     "data": {
      "text/html": [
       "<div>\n",
       "<style scoped>\n",
       "    .dataframe tbody tr th:only-of-type {\n",
       "        vertical-align: middle;\n",
       "    }\n",
       "\n",
       "    .dataframe tbody tr th {\n",
       "        vertical-align: top;\n",
       "    }\n",
       "\n",
       "    .dataframe thead th {\n",
       "        text-align: right;\n",
       "    }\n",
       "</style>\n",
       "<table border=\"1\" class=\"dataframe\">\n",
       "  <thead>\n",
       "    <tr style=\"text-align: right;\">\n",
       "      <th></th>\n",
       "      <th>n_preganant</th>\n",
       "      <th>glucose_concentration</th>\n",
       "      <th>blood_pressure(mm Hg)</th>\n",
       "      <th>skin_thickness</th>\n",
       "      <th>serum_insulin(mu U/ml)</th>\n",
       "      <th>BMI</th>\n",
       "      <th>pedrigree_function</th>\n",
       "      <th>age</th>\n",
       "      <th>class</th>\n",
       "    </tr>\n",
       "  </thead>\n",
       "  <tbody>\n",
       "    <tr>\n",
       "      <th>count</th>\n",
       "      <td>392.000000</td>\n",
       "      <td>392.000000</td>\n",
       "      <td>392.000000</td>\n",
       "      <td>392.000000</td>\n",
       "      <td>392.000000</td>\n",
       "      <td>392.000000</td>\n",
       "      <td>392.000000</td>\n",
       "      <td>392.000000</td>\n",
       "      <td>392.000000</td>\n",
       "    </tr>\n",
       "    <tr>\n",
       "      <th>mean</th>\n",
       "      <td>3.301020</td>\n",
       "      <td>122.627551</td>\n",
       "      <td>70.663265</td>\n",
       "      <td>29.145408</td>\n",
       "      <td>156.056122</td>\n",
       "      <td>33.086224</td>\n",
       "      <td>0.523046</td>\n",
       "      <td>30.864796</td>\n",
       "      <td>0.331633</td>\n",
       "    </tr>\n",
       "    <tr>\n",
       "      <th>std</th>\n",
       "      <td>3.211424</td>\n",
       "      <td>30.860781</td>\n",
       "      <td>12.496092</td>\n",
       "      <td>10.516424</td>\n",
       "      <td>118.841690</td>\n",
       "      <td>7.027659</td>\n",
       "      <td>0.345488</td>\n",
       "      <td>10.200777</td>\n",
       "      <td>0.471401</td>\n",
       "    </tr>\n",
       "    <tr>\n",
       "      <th>min</th>\n",
       "      <td>0.000000</td>\n",
       "      <td>56.000000</td>\n",
       "      <td>24.000000</td>\n",
       "      <td>7.000000</td>\n",
       "      <td>14.000000</td>\n",
       "      <td>18.200000</td>\n",
       "      <td>0.085000</td>\n",
       "      <td>21.000000</td>\n",
       "      <td>0.000000</td>\n",
       "    </tr>\n",
       "    <tr>\n",
       "      <th>25%</th>\n",
       "      <td>1.000000</td>\n",
       "      <td>99.000000</td>\n",
       "      <td>62.000000</td>\n",
       "      <td>21.000000</td>\n",
       "      <td>76.750000</td>\n",
       "      <td>28.400000</td>\n",
       "      <td>0.269750</td>\n",
       "      <td>23.000000</td>\n",
       "      <td>0.000000</td>\n",
       "    </tr>\n",
       "    <tr>\n",
       "      <th>50%</th>\n",
       "      <td>2.000000</td>\n",
       "      <td>119.000000</td>\n",
       "      <td>70.000000</td>\n",
       "      <td>29.000000</td>\n",
       "      <td>125.500000</td>\n",
       "      <td>33.200000</td>\n",
       "      <td>0.449500</td>\n",
       "      <td>27.000000</td>\n",
       "      <td>0.000000</td>\n",
       "    </tr>\n",
       "    <tr>\n",
       "      <th>75%</th>\n",
       "      <td>5.000000</td>\n",
       "      <td>143.000000</td>\n",
       "      <td>78.000000</td>\n",
       "      <td>37.000000</td>\n",
       "      <td>190.000000</td>\n",
       "      <td>37.100000</td>\n",
       "      <td>0.687000</td>\n",
       "      <td>36.000000</td>\n",
       "      <td>1.000000</td>\n",
       "    </tr>\n",
       "    <tr>\n",
       "      <th>max</th>\n",
       "      <td>17.000000</td>\n",
       "      <td>198.000000</td>\n",
       "      <td>110.000000</td>\n",
       "      <td>63.000000</td>\n",
       "      <td>846.000000</td>\n",
       "      <td>67.100000</td>\n",
       "      <td>2.420000</td>\n",
       "      <td>81.000000</td>\n",
       "      <td>1.000000</td>\n",
       "    </tr>\n",
       "  </tbody>\n",
       "</table>\n",
       "</div>"
      ],
      "text/plain": [
       "       n_preganant  glucose_concentration  blood_pressure(mm Hg)  \\\n",
       "count   392.000000             392.000000             392.000000   \n",
       "mean      3.301020             122.627551              70.663265   \n",
       "std       3.211424              30.860781              12.496092   \n",
       "min       0.000000              56.000000              24.000000   \n",
       "25%       1.000000              99.000000              62.000000   \n",
       "50%       2.000000             119.000000              70.000000   \n",
       "75%       5.000000             143.000000              78.000000   \n",
       "max      17.000000             198.000000             110.000000   \n",
       "\n",
       "       skin_thickness  serum_insulin(mu U/ml)         BMI  pedrigree_function  \\\n",
       "count      392.000000              392.000000  392.000000          392.000000   \n",
       "mean        29.145408              156.056122   33.086224            0.523046   \n",
       "std         10.516424              118.841690    7.027659            0.345488   \n",
       "min          7.000000               14.000000   18.200000            0.085000   \n",
       "25%         21.000000               76.750000   28.400000            0.269750   \n",
       "50%         29.000000              125.500000   33.200000            0.449500   \n",
       "75%         37.000000              190.000000   37.100000            0.687000   \n",
       "max         63.000000              846.000000   67.100000            2.420000   \n",
       "\n",
       "              age       class  \n",
       "count  392.000000  392.000000  \n",
       "mean    30.864796    0.331633  \n",
       "std     10.200777    0.471401  \n",
       "min     21.000000    0.000000  \n",
       "25%     23.000000    0.000000  \n",
       "50%     27.000000    0.000000  \n",
       "75%     36.000000    1.000000  \n",
       "max     81.000000    1.000000  "
      ]
     },
     "execution_count": 6,
     "metadata": {},
     "output_type": "execute_result"
    }
   ],
   "source": [
    "#drop rows with missing values\n",
    "df.dropna(inplace=True)\n",
    "\n",
    "#summarize data after preprcessing\n",
    "df.describe()\n"
   ]
  },
  {
   "cell_type": "code",
   "execution_count": 7,
   "metadata": {},
   "outputs": [
    {
     "name": "stdout",
     "output_type": "stream",
     "text": [
      "[[  1.     89.     66.    ...   0.167  21.      0.   ]\n",
      " [  0.    137.     40.    ...   2.288  33.      1.   ]\n",
      " [  3.     78.     50.    ...   0.248  26.      1.   ]\n",
      " ...\n",
      " [  2.     88.     58.    ...   0.766  22.      0.   ]\n",
      " [ 10.    101.     76.    ...   0.171  63.      0.   ]\n",
      " [  5.    121.     72.    ...   0.245  30.      0.   ]]\n",
      "\n",
      "\n",
      "\n",
      "(392, 9)\n"
     ]
    }
   ],
   "source": [
    "# Convert dataframe into a numpy array\n",
    "dataset= df.values\n",
    "print (dataset )\n",
    "print ('\\n\\n')\n",
    "print (dataset.shape)"
   ]
  },
  {
   "cell_type": "code",
   "execution_count": 8,
   "metadata": {},
   "outputs": [],
   "source": [
    "#split into input and an output\n",
    "X= dataset[:,0:8]\n",
    "Y= dataset[:,8].astype(int)\n",
    "\n",
    "\n"
   ]
  },
  {
   "cell_type": "code",
   "execution_count": 9,
   "metadata": {},
   "outputs": [
    {
     "name": "stdout",
     "output_type": "stream",
     "text": [
      "(392, 8)\n",
      "(392,)\n",
      "[[1.000e+00 8.900e+01 6.600e+01 2.300e+01 9.400e+01 2.810e+01 1.670e-01\n",
      "  2.100e+01]\n",
      " [0.000e+00 1.370e+02 4.000e+01 3.500e+01 1.680e+02 4.310e+01 2.288e+00\n",
      "  3.300e+01]\n",
      " [3.000e+00 7.800e+01 5.000e+01 3.200e+01 8.800e+01 3.100e+01 2.480e-01\n",
      "  2.600e+01]\n",
      " [2.000e+00 1.970e+02 7.000e+01 4.500e+01 5.430e+02 3.050e+01 1.580e-01\n",
      "  5.300e+01]\n",
      " [1.000e+00 1.890e+02 6.000e+01 2.300e+01 8.460e+02 3.010e+01 3.980e-01\n",
      "  5.900e+01]]\n"
     ]
    }
   ],
   "source": [
    "print(X.shape)\n",
    "print(Y.shape)\n",
    "print (X[:5])"
   ]
  },
  {
   "cell_type": "code",
   "execution_count": 10,
   "metadata": {},
   "outputs": [
    {
     "name": "stdout",
     "output_type": "stream",
     "text": [
      "[0 1 1 1 1]\n"
     ]
    }
   ],
   "source": [
    "#Sample output\n",
    "#Zero demonstartes a healthy individual\n",
    "#One indicates and indivdual who has diabetes\n",
    "print(Y[:5])"
   ]
  },
  {
   "cell_type": "code",
   "execution_count": 11,
   "metadata": {},
   "outputs": [
    {
     "name": "stdout",
     "output_type": "stream",
     "text": [
      "StandardScaler(copy=True, with_mean=True, with_std=True)\n"
     ]
    }
   ],
   "source": [
    "#Normalize the dataset using sklearn StandardScaler\n",
    "from sklearn.preprocessing import StandardScaler\n",
    "\n",
    "scaler=StandardScaler().fit(X)\n",
    "print(scaler)\n"
   ]
  },
  {
   "cell_type": "code",
   "execution_count": 12,
   "metadata": {},
   "outputs": [
    {
     "data": {
      "text/html": [
       "<div>\n",
       "<style scoped>\n",
       "    .dataframe tbody tr th:only-of-type {\n",
       "        vertical-align: middle;\n",
       "    }\n",
       "\n",
       "    .dataframe tbody tr th {\n",
       "        vertical-align: top;\n",
       "    }\n",
       "\n",
       "    .dataframe thead th {\n",
       "        text-align: right;\n",
       "    }\n",
       "</style>\n",
       "<table border=\"1\" class=\"dataframe\">\n",
       "  <thead>\n",
       "    <tr style=\"text-align: right;\">\n",
       "      <th></th>\n",
       "      <th>0</th>\n",
       "      <th>1</th>\n",
       "      <th>2</th>\n",
       "      <th>3</th>\n",
       "      <th>4</th>\n",
       "      <th>5</th>\n",
       "      <th>6</th>\n",
       "      <th>7</th>\n",
       "    </tr>\n",
       "  </thead>\n",
       "  <tbody>\n",
       "    <tr>\n",
       "      <th>count</th>\n",
       "      <td>3.920000e+02</td>\n",
       "      <td>3.920000e+02</td>\n",
       "      <td>3.920000e+02</td>\n",
       "      <td>3.920000e+02</td>\n",
       "      <td>3.920000e+02</td>\n",
       "      <td>3.920000e+02</td>\n",
       "      <td>3.920000e+02</td>\n",
       "      <td>3.920000e+02</td>\n",
       "    </tr>\n",
       "    <tr>\n",
       "      <th>mean</th>\n",
       "      <td>-4.021726e-17</td>\n",
       "      <td>3.129583e-17</td>\n",
       "      <td>-4.641624e-16</td>\n",
       "      <td>1.042250e-16</td>\n",
       "      <td>6.485742e-17</td>\n",
       "      <td>1.543550e-16</td>\n",
       "      <td>3.880116e-17</td>\n",
       "      <td>1.028089e-16</td>\n",
       "    </tr>\n",
       "    <tr>\n",
       "      <th>std</th>\n",
       "      <td>1.001278e+00</td>\n",
       "      <td>1.001278e+00</td>\n",
       "      <td>1.001278e+00</td>\n",
       "      <td>1.001278e+00</td>\n",
       "      <td>1.001278e+00</td>\n",
       "      <td>1.001278e+00</td>\n",
       "      <td>1.001278e+00</td>\n",
       "      <td>1.001278e+00</td>\n",
       "    </tr>\n",
       "    <tr>\n",
       "      <th>min</th>\n",
       "      <td>-1.029213e+00</td>\n",
       "      <td>-2.161731e+00</td>\n",
       "      <td>-3.739001e+00</td>\n",
       "      <td>-2.108484e+00</td>\n",
       "      <td>-1.196867e+00</td>\n",
       "      <td>-2.120941e+00</td>\n",
       "      <td>-1.269525e+00</td>\n",
       "      <td>-9.682991e-01</td>\n",
       "    </tr>\n",
       "    <tr>\n",
       "      <th>25%</th>\n",
       "      <td>-7.174265e-01</td>\n",
       "      <td>-7.665958e-01</td>\n",
       "      <td>-6.941640e-01</td>\n",
       "      <td>-7.755315e-01</td>\n",
       "      <td>-6.681786e-01</td>\n",
       "      <td>-6.676780e-01</td>\n",
       "      <td>-7.340909e-01</td>\n",
       "      <td>-7.719850e-01</td>\n",
       "    </tr>\n",
       "    <tr>\n",
       "      <th>50%</th>\n",
       "      <td>-4.056403e-01</td>\n",
       "      <td>-1.176959e-01</td>\n",
       "      <td>-5.314565e-02</td>\n",
       "      <td>-1.384444e-02</td>\n",
       "      <td>-2.574448e-01</td>\n",
       "      <td>1.621036e-02</td>\n",
       "      <td>-2.131475e-01</td>\n",
       "      <td>-3.793569e-01</td>\n",
       "    </tr>\n",
       "    <tr>\n",
       "      <th>75%</th>\n",
       "      <td>5.297185e-01</td>\n",
       "      <td>6.609841e-01</td>\n",
       "      <td>5.878727e-01</td>\n",
       "      <td>7.478426e-01</td>\n",
       "      <td>2.859877e-01</td>\n",
       "      <td>5.718696e-01</td>\n",
       "      <td>4.751644e-01</td>\n",
       "      <td>5.040564e-01</td>\n",
       "    </tr>\n",
       "    <tr>\n",
       "      <th>max</th>\n",
       "      <td>4.271153e+00</td>\n",
       "      <td>2.445459e+00</td>\n",
       "      <td>3.151946e+00</td>\n",
       "      <td>3.223325e+00</td>\n",
       "      <td>5.812990e+00</td>\n",
       "      <td>4.846172e+00</td>\n",
       "      <td>5.497667e+00</td>\n",
       "      <td>4.921123e+00</td>\n",
       "    </tr>\n",
       "  </tbody>\n",
       "</table>\n",
       "</div>"
      ],
      "text/plain": [
       "                  0             1             2             3             4  \\\n",
       "count  3.920000e+02  3.920000e+02  3.920000e+02  3.920000e+02  3.920000e+02   \n",
       "mean  -4.021726e-17  3.129583e-17 -4.641624e-16  1.042250e-16  6.485742e-17   \n",
       "std    1.001278e+00  1.001278e+00  1.001278e+00  1.001278e+00  1.001278e+00   \n",
       "min   -1.029213e+00 -2.161731e+00 -3.739001e+00 -2.108484e+00 -1.196867e+00   \n",
       "25%   -7.174265e-01 -7.665958e-01 -6.941640e-01 -7.755315e-01 -6.681786e-01   \n",
       "50%   -4.056403e-01 -1.176959e-01 -5.314565e-02 -1.384444e-02 -2.574448e-01   \n",
       "75%    5.297185e-01  6.609841e-01  5.878727e-01  7.478426e-01  2.859877e-01   \n",
       "max    4.271153e+00  2.445459e+00  3.151946e+00  3.223325e+00  5.812990e+00   \n",
       "\n",
       "                  5             6             7  \n",
       "count  3.920000e+02  3.920000e+02  3.920000e+02  \n",
       "mean   1.543550e-16  3.880116e-17  1.028089e-16  \n",
       "std    1.001278e+00  1.001278e+00  1.001278e+00  \n",
       "min   -2.120941e+00 -1.269525e+00 -9.682991e-01  \n",
       "25%   -6.676780e-01 -7.340909e-01 -7.719850e-01  \n",
       "50%    1.621036e-02 -2.131475e-01 -3.793569e-01  \n",
       "75%    5.718696e-01  4.751644e-01  5.040564e-01  \n",
       "max    4.846172e+00  5.497667e+00  4.921123e+00  "
      ]
     },
     "execution_count": 12,
     "metadata": {},
     "output_type": "execute_result"
    }
   ],
   "source": [
    "#Transform and display training data\n",
    "X_standardized= scaler.transform(X)\n",
    "\n",
    "data= pd.DataFrame(X_standardized)\n",
    "data.describe()"
   ]
  },
  {
   "cell_type": "code",
   "execution_count": 13,
   "metadata": {},
   "outputs": [],
   "source": [
    "from sklearn.model_selection import GridSearchCV, KFold\n",
    "from keras.models import Sequential\n",
    "from keras.layers import Dense\n",
    "from keras.wrappers.scikit_learn import KerasClassifier\n",
    "from keras.optimizers import Adam"
   ]
  },
  {
   "cell_type": "code",
   "execution_count": 14,
   "metadata": {},
   "outputs": [],
   "source": [
    "#Define model to be used\n",
    "\n",
    "def create_model():\n",
    "    model= Sequential()\n",
    "    model.add(Dense(8, input_dim = 8, kernel_initializer= 'normal', \n",
    "                    activation= 'relu'))\n",
    "    model.add(Dense(4, input_dim= 8,kernel_initializer= 'normal', \n",
    "                    activation= 'relu'))\n",
    "    model.add(Dense(1,activation='sigmoid'))\n",
    "    \n",
    "    #compile the model\n",
    "    adam = Adam(lr= 0.01)\n",
    "    model.compile(loss= 'binary_crossentropy', optimizer= adam , \n",
    "                 metrics= ['accuracy'])\n",
    "    \n",
    "    return model"
   ]
  },
  {
   "cell_type": "code",
   "execution_count": 15,
   "metadata": {},
   "outputs": [
    {
     "name": "stdout",
     "output_type": "stream",
     "text": [
      "WARNING:tensorflow:From /anaconda2/lib/python2.7/site-packages/tensorflow/python/framework/op_def_library.py:263: colocate_with (from tensorflow.python.framework.ops) is deprecated and will be removed in a future version.\n",
      "Instructions for updating:\n",
      "Colocations handled automatically by placer.\n",
      "_________________________________________________________________\n",
      "Layer (type)                 Output Shape              Param #   \n",
      "=================================================================\n",
      "dense_1 (Dense)              (None, 8)                 72        \n",
      "_________________________________________________________________\n",
      "dense_2 (Dense)              (None, 4)                 36        \n",
      "_________________________________________________________________\n",
      "dense_3 (Dense)              (None, 1)                 5         \n",
      "=================================================================\n",
      "Total params: 113\n",
      "Trainable params: 113\n",
      "Non-trainable params: 0\n",
      "_________________________________________________________________\n",
      "None\n"
     ]
    }
   ],
   "source": [
    "#check model\n",
    "model= create_model()\n",
    "print(model.summary())"
   ]
  },
  {
   "cell_type": "code",
   "execution_count": 16,
   "metadata": {},
   "outputs": [
    {
     "name": "stdout",
     "output_type": "stream",
     "text": [
      "Fitting 3 folds for each of 9 candidates, totalling 27 fits\n",
      "[CV] epochs=10, batch_size=10 ........................................\n",
      "WARNING:tensorflow:From /anaconda2/lib/python2.7/site-packages/tensorflow/python/ops/math_ops.py:3066: to_int32 (from tensorflow.python.ops.math_ops) is deprecated and will be removed in a future version.\n",
      "Instructions for updating:\n",
      "Use tf.cast instead.\n"
     ]
    },
    {
     "name": "stderr",
     "output_type": "stream",
     "text": [
      "/anaconda2/lib/python2.7/site-packages/sklearn/model_selection/_split.py:426: FutureWarning: You should specify a value for 'n_splits' instead of relying on the default value. The default value will change from 3 to 5 in version 0.22.\n",
      "  warnings.warn(NSPLIT_WARNING, FutureWarning)\n",
      "[Parallel(n_jobs=1)]: Using backend SequentialBackend with 1 concurrent workers.\n"
     ]
    },
    {
     "name": "stdout",
     "output_type": "stream",
     "text": [
      "[CV] .... epochs=10, batch_size=10, score=0.75572518265, total=   2.3s\n",
      "[CV] epochs=10, batch_size=10 ........................................\n"
     ]
    },
    {
     "name": "stderr",
     "output_type": "stream",
     "text": [
      "[Parallel(n_jobs=1)]: Done   1 out of   1 | elapsed:    2.3s remaining:    0.0s\n"
     ]
    },
    {
     "name": "stdout",
     "output_type": "stream",
     "text": [
      "[CV] ... epochs=10, batch_size=10, score=0.755725184925, total=   2.1s\n",
      "[CV] epochs=10, batch_size=10 ........................................\n"
     ]
    },
    {
     "name": "stderr",
     "output_type": "stream",
     "text": [
      "[Parallel(n_jobs=1)]: Done   2 out of   2 | elapsed:    4.5s remaining:    0.0s\n"
     ]
    },
    {
     "name": "stdout",
     "output_type": "stream",
     "text": [
      "[CV] ... epochs=10, batch_size=10, score=0.815384612634, total=   2.3s\n",
      "[CV] epochs=50, batch_size=10 ........................................\n"
     ]
    },
    {
     "name": "stderr",
     "output_type": "stream",
     "text": [
      "[Parallel(n_jobs=1)]: Done   3 out of   3 | elapsed:    6.8s remaining:    0.0s\n"
     ]
    },
    {
     "name": "stdout",
     "output_type": "stream",
     "text": [
      "[CV] .... epochs=50, batch_size=10, score=0.75572519175, total=   4.5s\n",
      "[CV] epochs=50, batch_size=10 ........................................\n"
     ]
    },
    {
     "name": "stderr",
     "output_type": "stream",
     "text": [
      "[Parallel(n_jobs=1)]: Done   4 out of   4 | elapsed:   11.2s remaining:    0.0s\n"
     ]
    },
    {
     "name": "stdout",
     "output_type": "stream",
     "text": [
      "[CV] ... epochs=50, batch_size=10, score=0.793893126131, total=   4.2s\n",
      "[CV] epochs=50, batch_size=10 ........................................\n"
     ]
    },
    {
     "name": "stderr",
     "output_type": "stream",
     "text": [
      "[Parallel(n_jobs=1)]: Done   5 out of   5 | elapsed:   15.4s remaining:    0.0s\n"
     ]
    },
    {
     "name": "stdout",
     "output_type": "stream",
     "text": [
      "[CV] .... epochs=50, batch_size=10, score=0.79230768864, total=   5.0s\n",
      "[CV] epochs=100, batch_size=10 .......................................\n"
     ]
    },
    {
     "name": "stderr",
     "output_type": "stream",
     "text": [
      "[Parallel(n_jobs=1)]: Done   6 out of   6 | elapsed:   20.4s remaining:    0.0s\n"
     ]
    },
    {
     "name": "stdout",
     "output_type": "stream",
     "text": [
      "[CV] .. epochs=100, batch_size=10, score=0.679389318437, total=   7.4s\n",
      "[CV] epochs=100, batch_size=10 .......................................\n"
     ]
    },
    {
     "name": "stderr",
     "output_type": "stream",
     "text": [
      "[Parallel(n_jobs=1)]: Done   7 out of   7 | elapsed:   27.8s remaining:    0.0s\n"
     ]
    },
    {
     "name": "stdout",
     "output_type": "stream",
     "text": [
      "[CV] .. epochs=100, batch_size=10, score=0.748091597593, total=   7.1s\n",
      "[CV] epochs=100, batch_size=10 .......................................\n"
     ]
    },
    {
     "name": "stderr",
     "output_type": "stream",
     "text": [
      "[Parallel(n_jobs=1)]: Done   8 out of   8 | elapsed:   34.9s remaining:    0.0s\n"
     ]
    },
    {
     "name": "stdout",
     "output_type": "stream",
     "text": [
      "[CV] .. epochs=100, batch_size=10, score=0.869230751808, total=   7.0s\n",
      "[CV] epochs=10, batch_size=20 ........................................\n"
     ]
    },
    {
     "name": "stderr",
     "output_type": "stream",
     "text": [
      "[Parallel(n_jobs=1)]: Done   9 out of   9 | elapsed:   41.9s remaining:    0.0s\n"
     ]
    },
    {
     "name": "stdout",
     "output_type": "stream",
     "text": [
      "[CV] ... epochs=10, batch_size=20, score=0.725190835145, total=   2.3s\n",
      "[CV] epochs=10, batch_size=20 ........................................\n",
      "[CV] ... epochs=10, batch_size=20, score=0.778625959203, total=   2.2s\n",
      "[CV] epochs=10, batch_size=20 ........................................\n",
      "[CV] ... epochs=10, batch_size=20, score=0.807692316862, total=   2.3s\n",
      "[CV] epochs=50, batch_size=20 ........................................\n",
      "[CV] ... epochs=50, batch_size=20, score=0.748091595773, total=   3.5s\n",
      "[CV] epochs=50, batch_size=20 ........................................\n",
      "[CV] ... epochs=50, batch_size=20, score=0.778625951013, total=   4.4s\n",
      "[CV] epochs=50, batch_size=20 ........................................\n",
      "[CV] ... epochs=50, batch_size=20, score=0.800000011921, total=   3.9s\n",
      "[CV] epochs=100, batch_size=20 .......................................\n",
      "[CV] .. epochs=100, batch_size=20, score=0.725190826045, total=   5.2s\n",
      "[CV] epochs=100, batch_size=20 .......................................\n",
      "[CV] .. epochs=100, batch_size=20, score=0.732824430666, total=   5.3s\n",
      "[CV] epochs=100, batch_size=20 .......................................\n",
      "[CV] .. epochs=100, batch_size=20, score=0.815384617219, total=   5.6s\n",
      "[CV] epochs=10, batch_size=40 ........................................\n",
      "[CV] ... epochs=10, batch_size=40, score=0.717557236438, total=   2.7s\n",
      "[CV] epochs=10, batch_size=40 ........................................\n",
      "[CV] ... epochs=10, batch_size=40, score=0.763358762701, total=   2.8s\n",
      "[CV] epochs=10, batch_size=40 ........................................\n",
      "[CV] .... epochs=10, batch_size=40, score=0.82307693133, total=   2.8s\n",
      "[CV] epochs=50, batch_size=40 ........................................\n",
      "[CV] ... epochs=50, batch_size=40, score=0.717557254638, total=   3.5s\n",
      "[CV] epochs=50, batch_size=40 ........................................\n",
      "[CV] ... epochs=50, batch_size=40, score=0.793893139326, total=   3.9s\n",
      "[CV] epochs=50, batch_size=40 ........................................\n",
      "[CV] ... epochs=50, batch_size=40, score=0.799999998166, total=   4.0s\n",
      "[CV] epochs=100, batch_size=40 .......................................\n",
      "[CV] ... epochs=100, batch_size=40, score=0.75572519357, total=   4.6s\n",
      "[CV] epochs=100, batch_size=40 .......................................\n",
      "[CV] .. epochs=100, batch_size=40, score=0.778625950103, total=   4.7s\n",
      "[CV] epochs=100, batch_size=40 .......................................\n",
      "[CV] .. epochs=100, batch_size=40, score=0.823076917575, total=   4.8s\n"
     ]
    },
    {
     "name": "stderr",
     "output_type": "stream",
     "text": [
      "[Parallel(n_jobs=1)]: Done  27 out of  27 | elapsed:  1.8min finished\n",
      "/anaconda2/lib/python2.7/site-packages/sklearn/model_selection/_search.py:841: DeprecationWarning: The default of the `iid` parameter will change from True to False in version 0.22 and will be removed in 0.24. This will change numeric results when test-set sizes are unequal.\n",
      "  DeprecationWarning)\n"
     ]
    },
    {
     "name": "stdout",
     "output_type": "stream",
     "text": [
      "Best: 0.785714283433, using {'epochs': 100, 'batch_size': 40}\n",
      "(0.775510198455684, 0.02808764620623172, {'epochs': 10, 'batch_size': 10})\n",
      "(0.7806122427692219, 0.01764334357896172, {'epochs': 50, 'batch_size': 10})\n",
      "(0.7653061166709784, 0.07840673605629139, {'epochs': 100, 'batch_size': 10})\n",
      "(0.7704081664584121, 0.03415915086326399, {'epochs': 10, 'batch_size': 20})\n",
      "(0.7755102045377906, 0.021292575132684247, {'epochs': 50, 'batch_size': 20})\n",
      "(0.7576530583354891, 0.040785807454233214, {'epochs': 100, 'batch_size': 20})\n",
      "(0.7678571351024569, 0.04316823556856046, {'epochs': 10, 'batch_size': 40})\n",
      "(0.7704081667625174, 0.037525565310356, {'epochs': 50, 'batch_size': 40})\n",
      "(0.7857142834334957, 0.027933591223715304, {'epochs': 100, 'batch_size': 40})\n"
     ]
    }
   ],
   "source": [
    "seed= 6\n",
    "np.random.seed(seed)\n",
    "\n",
    "model = KerasClassifier(build_fn= create_model, verbose=0)\n",
    "\n",
    "#Define grid search parameter\n",
    "batch_size= [10,20,40]\n",
    "\n",
    "epochs = [10,50,100]\n",
    "\n",
    "#need a dictionary of the grid search\n",
    "\n",
    "param_grid= dict(batch_size=batch_size, epochs=epochs)\n",
    "\n",
    "#build and fitGridSearch\n",
    "\n",
    "gird= GridSearchCV(estimator = model, param_grid= param_grid, \n",
    "                  cv= KFold(random_state=seed), verbose = 10)\n",
    "grid_results= gird.fit(X_standardized, Y)\n",
    "\n",
    "\n",
    "#Summarize results of the network\n",
    "\n",
    "print('Best: {0}, using {1}'.format(grid_results.best_score_,\n",
    "                                   grid_results.best_params_))\n",
    "means= grid_results.cv_results_['mean_test_score']\n",
    "stds= grid_results.cv_results_['std_test_score']\n",
    "params = grid_results.cv_results_['params']\n",
    "\n",
    "\n",
    "for mean, stdev, param in zip(means, stds, params):\n",
    "    print(mean, stdev, param)\n",
    "\n"
   ]
  },
  {
   "cell_type": "code",
   "execution_count": 17,
   "metadata": {},
   "outputs": [
    {
     "name": "stdout",
     "output_type": "stream",
     "text": [
      "Fitting 3 folds for each of 9 candidates, totalling 27 fits\n",
      "[CV] learn_rate=0.001, dropout_rate=0.0 ..............................\n"
     ]
    },
    {
     "name": "stderr",
     "output_type": "stream",
     "text": [
      "[Parallel(n_jobs=1)]: Using backend SequentialBackend with 1 concurrent workers.\n"
     ]
    },
    {
     "name": "stdout",
     "output_type": "stream",
     "text": [
      "[CV]  learn_rate=0.001, dropout_rate=0.0, score=0.748091613973, total=   6.7s\n",
      "[CV] learn_rate=0.001, dropout_rate=0.0 ..............................\n"
     ]
    },
    {
     "name": "stderr",
     "output_type": "stream",
     "text": [
      "[Parallel(n_jobs=1)]: Done   1 out of   1 | elapsed:    6.7s remaining:    0.0s\n"
     ]
    },
    {
     "name": "stdout",
     "output_type": "stream",
     "text": [
      "[CV]  learn_rate=0.001, dropout_rate=0.0, score=0.778625960113, total=   6.6s\n",
      "[CV] learn_rate=0.001, dropout_rate=0.0 ..............................\n"
     ]
    },
    {
     "name": "stderr",
     "output_type": "stream",
     "text": [
      "[Parallel(n_jobs=1)]: Done   2 out of   2 | elapsed:   13.3s remaining:    0.0s\n"
     ]
    },
    {
     "name": "stdout",
     "output_type": "stream",
     "text": [
      "[CV]  learn_rate=0.001, dropout_rate=0.0, score=0.861538456036, total=   7.1s\n",
      "[CV] learn_rate=0.01, dropout_rate=0.0 ...............................\n"
     ]
    },
    {
     "name": "stderr",
     "output_type": "stream",
     "text": [
      "[Parallel(n_jobs=1)]: Done   3 out of   3 | elapsed:   20.4s remaining:    0.0s\n"
     ]
    },
    {
     "name": "stdout",
     "output_type": "stream",
     "text": [
      "[CV]  learn_rate=0.01, dropout_rate=0.0, score=0.740458014357, total=   6.9s\n",
      "[CV] learn_rate=0.01, dropout_rate=0.0 ...............................\n"
     ]
    },
    {
     "name": "stderr",
     "output_type": "stream",
     "text": [
      "[Parallel(n_jobs=1)]: Done   4 out of   4 | elapsed:   27.3s remaining:    0.0s\n"
     ]
    },
    {
     "name": "stdout",
     "output_type": "stream",
     "text": [
      "[CV]  learn_rate=0.01, dropout_rate=0.0, score=0.78625955882, total=   7.0s\n",
      "[CV] learn_rate=0.01, dropout_rate=0.0 ...............................\n"
     ]
    },
    {
     "name": "stderr",
     "output_type": "stream",
     "text": [
      "[Parallel(n_jobs=1)]: Done   5 out of   5 | elapsed:   34.4s remaining:    0.0s\n"
     ]
    },
    {
     "name": "stdout",
     "output_type": "stream",
     "text": [
      "[CV]  learn_rate=0.01, dropout_rate=0.0, score=0.830769236271, total=   7.5s\n",
      "[CV] learn_rate=0.1, dropout_rate=0.0 ................................\n"
     ]
    },
    {
     "name": "stderr",
     "output_type": "stream",
     "text": [
      "[Parallel(n_jobs=1)]: Done   6 out of   6 | elapsed:   41.9s remaining:    0.0s\n"
     ]
    },
    {
     "name": "stdout",
     "output_type": "stream",
     "text": [
      "[CV]  learn_rate=0.1, dropout_rate=0.0, score=0.656488560083, total=   7.2s\n",
      "[CV] learn_rate=0.1, dropout_rate=0.0 ................................\n"
     ]
    },
    {
     "name": "stderr",
     "output_type": "stream",
     "text": [
      "[Parallel(n_jobs=1)]: Done   7 out of   7 | elapsed:   49.1s remaining:    0.0s\n"
     ]
    },
    {
     "name": "stdout",
     "output_type": "stream",
     "text": [
      "[CV]  learn_rate=0.1, dropout_rate=0.0, score=0.717557254638, total=   7.3s\n",
      "[CV] learn_rate=0.1, dropout_rate=0.0 ................................\n"
     ]
    },
    {
     "name": "stderr",
     "output_type": "stream",
     "text": [
      "[Parallel(n_jobs=1)]: Done   8 out of   8 | elapsed:   56.4s remaining:    0.0s\n"
     ]
    },
    {
     "name": "stdout",
     "output_type": "stream",
     "text": [
      "[CV]  learn_rate=0.1, dropout_rate=0.0, score=0.815384621804, total=   7.3s\n",
      "[CV] learn_rate=0.001, dropout_rate=0.1 ..............................\n",
      "WARNING:tensorflow:From /anaconda2/lib/python2.7/site-packages/keras/backend/tensorflow_backend.py:3445: calling dropout (from tensorflow.python.ops.nn_ops) with keep_prob is deprecated and will be removed in a future version.\n",
      "Instructions for updating:\n",
      "Please use `rate` instead of `keep_prob`. Rate should be set to `rate = 1 - keep_prob`.\n"
     ]
    },
    {
     "name": "stderr",
     "output_type": "stream",
     "text": [
      "[Parallel(n_jobs=1)]: Done   9 out of   9 | elapsed:  1.1min remaining:    0.0s\n"
     ]
    },
    {
     "name": "stdout",
     "output_type": "stream",
     "text": [
      "[CV]  learn_rate=0.001, dropout_rate=0.1, score=0.725190845155, total=   8.4s\n",
      "[CV] learn_rate=0.001, dropout_rate=0.1 ..............................\n",
      "[CV]  learn_rate=0.001, dropout_rate=0.1, score=0.755725200395, total=   8.6s\n",
      "[CV] learn_rate=0.001, dropout_rate=0.1 ..............................\n",
      "[CV]  learn_rate=0.001, dropout_rate=0.1, score=0.838461536628, total=   9.1s\n",
      "[CV] learn_rate=0.01, dropout_rate=0.1 ...............................\n",
      "[CV]  learn_rate=0.01, dropout_rate=0.1, score=0.748091594863, total=   9.4s\n",
      "[CV] learn_rate=0.01, dropout_rate=0.1 ...............................\n",
      "[CV]  learn_rate=0.01, dropout_rate=0.1, score=0.770992369597, total=   9.2s\n",
      "[CV] learn_rate=0.01, dropout_rate=0.1 ...............................\n",
      "[CV]  learn_rate=0.01, dropout_rate=0.1, score=0.861538474376, total=   9.6s\n",
      "[CV] learn_rate=0.1, dropout_rate=0.1 ................................\n",
      "[CV]  learn_rate=0.1, dropout_rate=0.1, score=0.687022896213, total=   9.9s\n",
      "[CV] learn_rate=0.1, dropout_rate=0.1 ................................\n",
      "[CV]  learn_rate=0.1, dropout_rate=0.1, score=0.778625950103, total=   9.3s\n",
      "[CV] learn_rate=0.1, dropout_rate=0.1 ................................\n",
      "[CV]  learn_rate=0.1, dropout_rate=0.1, score=0.769230773816, total=   9.6s\n",
      "[CV] learn_rate=0.001, dropout_rate=0.2 ..............................\n",
      "[CV]  learn_rate=0.001, dropout_rate=0.2, score=0.732824434761, total=   9.8s\n",
      "[CV] learn_rate=0.001, dropout_rate=0.2 ..............................\n",
      "[CV]  learn_rate=0.001, dropout_rate=0.2, score=0.763358780901, total=  11.3s\n",
      "[CV] learn_rate=0.001, dropout_rate=0.2 ..............................\n",
      "[CV]  learn_rate=0.001, dropout_rate=0.2, score=0.838461545797, total=  10.0s\n",
      "[CV] learn_rate=0.01, dropout_rate=0.2 ...............................\n",
      "[CV]  learn_rate=0.01, dropout_rate=0.2, score=0.763358784086, total=  11.4s\n",
      "[CV] learn_rate=0.01, dropout_rate=0.2 ...............................\n",
      "[CV]  learn_rate=0.01, dropout_rate=0.2, score=0.778625950103, total=  10.3s\n",
      "[CV] learn_rate=0.01, dropout_rate=0.2 ...............................\n",
      "[CV]  learn_rate=0.01, dropout_rate=0.2, score=0.846153841569, total=  10.5s\n",
      "[CV] learn_rate=0.1, dropout_rate=0.2 ................................\n",
      "[CV]  learn_rate=0.1, dropout_rate=0.2, score=0.717557254638, total=  10.6s\n",
      "[CV] learn_rate=0.1, dropout_rate=0.2 ................................\n",
      "[CV]  learn_rate=0.1, dropout_rate=0.2, score=0.763358779991, total=  11.1s\n",
      "[CV] learn_rate=0.1, dropout_rate=0.2 ................................\n",
      "[CV]  learn_rate=0.1, dropout_rate=0.2, score=0.699999988079, total=  10.7s\n"
     ]
    },
    {
     "name": "stderr",
     "output_type": "stream",
     "text": [
      "[Parallel(n_jobs=1)]: Done  27 out of  27 | elapsed:  4.0min finished\n",
      "/anaconda2/lib/python2.7/site-packages/sklearn/model_selection/_search.py:841: DeprecationWarning: The default of the `iid` parameter will change from True to False in version 0.22 and will be removed in 0.24. This will change numeric results when test-set sizes are unequal.\n",
      "  DeprecationWarning)\n"
     ]
    },
    {
     "name": "stdout",
     "output_type": "stream",
     "text": [
      "Best: 0.795918371148, using {'learn_rate': 0.001, 'dropout_rate': 0.0}\n",
      "0.795918371148 (0.0478784933729) with: {'learn_rate': 0.001, 'dropout_rate': 0.0}\n",
      "0.785714292861 (0.0368476353348) with: {'learn_rate': 0.01, 'dropout_rate': 0.0}\n",
      "0.729591843273 (0.0653854506485) with: {'learn_rate': 0.1, 'dropout_rate': 0.0}\n",
      "0.772959188083 (0.047798433089) with: {'learn_rate': 0.001, 'dropout_rate': 0.1}\n",
      "0.793367349524 (0.0489238581475) with: {'learn_rate': 0.01, 'dropout_rate': 0.1}\n",
      "0.744897957815 (0.0411809502536) with: {'learn_rate': 0.1, 'dropout_rate': 0.1}\n",
      "0.778061230116 (0.044339171188) with: {'learn_rate': 0.001, 'dropout_rate': 0.2}\n",
      "0.795918366283 (0.0359321060321) with: {'learn_rate': 0.01, 'dropout_rate': 0.2}\n",
      "0.727040813742 (0.0267083157453) with: {'learn_rate': 0.1, 'dropout_rate': 0.2}\n"
     ]
    }
   ],
   "source": [
    "# Do a grid search for learning rate and dropout rate\n",
    "# import necessary packages\n",
    "from keras.layers import Dropout\n",
    "\n",
    "# Define a random seed\n",
    "seed = 6\n",
    "np.random.seed(seed)\n",
    "\n",
    "# Start defining the model\n",
    "def create_model(learn_rate, dropout_rate):\n",
    "    # create model\n",
    "    model = Sequential()\n",
    "    model.add(Dense(8, input_dim = 8, kernel_initializer='normal', activation='relu'))\n",
    "    model.add(Dropout(dropout_rate))\n",
    "    model.add(Dense(4, input_dim = 8, kernel_initializer='normal', activation='relu'))\n",
    "    model.add(Dropout(dropout_rate))\n",
    "    model.add(Dense(1, activation='sigmoid'))\n",
    "    \n",
    "    # compile the model\n",
    "    adam = Adam(lr = learn_rate)\n",
    "    model.compile(loss = 'binary_crossentropy', optimizer = adam, metrics = ['accuracy'])\n",
    "    return model\n",
    "\n",
    "# create the model\n",
    "model = KerasClassifier(build_fn = create_model, epochs = 100, batch_size = 20, verbose = 0)\n",
    "\n",
    "# define the grid search parameters\n",
    "learn_rate = [0.001, 0.01, 0.1]\n",
    "dropout_rate = [0.0, 0.1, 0.2]\n",
    "\n",
    "# make a dictionary of the grid search parameters\n",
    "param_grid = dict(learn_rate=learn_rate, dropout_rate=dropout_rate)\n",
    "\n",
    "# build and fit the GridSearchCV\n",
    "grid = GridSearchCV(estimator = model, param_grid = param_grid, cv = KFold(random_state=seed), verbose = 10)\n",
    "grid_results = grid.fit(X_standardized, Y)\n",
    "\n",
    "# summarize the results\n",
    "print(\"Best: {0}, using {1}\".format(grid_results.best_score_, grid_results.best_params_))\n",
    "means = grid_results.cv_results_['mean_test_score']\n",
    "stds = grid_results.cv_results_['std_test_score']\n",
    "params = grid_results.cv_results_['params']\n",
    "for mean, stdev, param in zip(means, stds, params):\n",
    "    print('{0} ({1}) with: {2}'.format(mean, stdev, param))"
   ]
  },
  {
   "cell_type": "code",
   "execution_count": 24,
   "metadata": {},
   "outputs": [],
   "source": [
    "#SOME NOTES SO FAR\n",
    "#-------------------------------------------------------------->\n",
    "\n",
    "#Percentage difference between accuracies above is too large\n",
    "#Continued optimization of the model\n",
    "#Optimization can be done by altering the learn rate and the drop out rate \n",
    "#use the same skeleton and play around with some of the values \n",
    "#This is in order to help optimize the alogorithm\n",
    "\n",
    "\n",
    "\n",
    "#From the above function we know that the most accurate readings were\n",
    "#when the value of batch_size was 20 and the epochs were 100\n",
    "#Therefore in our optimization we will stick to these values\n",
    "\n",
    "\n",
    "#define the grid search parameters\n",
    "#learn rate controls the speed at which the parameters of the network \n",
    "#need a dictionary of the grid search\n",
    "#Will determine the extent of change to the weights at each step\n",
    "#If the changes are too large the algorithm will not fine the local mimimum\n",
    "#in accuracy\n",
    "#Should the learning rate be too small the parameters may not be \n",
    "#updated enough in order to satisfy the acceptance criteria\n",
    "\n",
    "#As obdserved from above the ideal way to optimize the neural network is\n",
    "#to use a learn rate of 0.01 and no dropout rate\n",
    "#This in turn also prevents overfitting (becoming too fit to the \n",
    "#training data)"
   ]
  },
  {
   "cell_type": "code",
   "execution_count": 18,
   "metadata": {},
   "outputs": [
    {
     "name": "stdout",
     "output_type": "stream",
     "text": [
      "Fitting 3 folds for each of 12 candidates, totalling 36 fits\n",
      "[CV] activation=softmax, init=uniform ................................\n"
     ]
    },
    {
     "name": "stderr",
     "output_type": "stream",
     "text": [
      "[Parallel(n_jobs=1)]: Using backend SequentialBackend with 1 concurrent workers.\n"
     ]
    },
    {
     "name": "stdout",
     "output_type": "stream",
     "text": [
      "[CV]  activation=softmax, init=uniform, score=0.75572520358, total=  10.6s\n",
      "[CV] activation=softmax, init=uniform ................................\n"
     ]
    },
    {
     "name": "stderr",
     "output_type": "stream",
     "text": [
      "[Parallel(n_jobs=1)]: Done   1 out of   1 | elapsed:   10.7s remaining:    0.0s\n"
     ]
    },
    {
     "name": "stdout",
     "output_type": "stream",
     "text": [
      "[CV]  activation=softmax, init=uniform, score=0.755725200395, total=  11.0s\n",
      "[CV] activation=softmax, init=uniform ................................\n"
     ]
    },
    {
     "name": "stderr",
     "output_type": "stream",
     "text": [
      "[Parallel(n_jobs=1)]: Done   2 out of   2 | elapsed:   21.7s remaining:    0.0s\n"
     ]
    },
    {
     "name": "stdout",
     "output_type": "stream",
     "text": [
      "[CV]  activation=softmax, init=uniform, score=0.815384621804, total=  10.5s\n",
      "[CV] activation=softmax, init=normal .................................\n"
     ]
    },
    {
     "name": "stderr",
     "output_type": "stream",
     "text": [
      "[Parallel(n_jobs=1)]: Done   3 out of   3 | elapsed:   32.2s remaining:    0.0s\n"
     ]
    },
    {
     "name": "stdout",
     "output_type": "stream",
     "text": [
      "[CV]  activation=softmax, init=normal, score=0.610687024266, total=  11.7s\n",
      "[CV] activation=softmax, init=normal .................................\n"
     ]
    },
    {
     "name": "stderr",
     "output_type": "stream",
     "text": [
      "[Parallel(n_jobs=1)]: Done   4 out of   4 | elapsed:   44.0s remaining:    0.0s\n"
     ]
    },
    {
     "name": "stdout",
     "output_type": "stream",
     "text": [
      "[CV]  activation=softmax, init=normal, score=0.755725200395, total=  10.7s\n",
      "[CV] activation=softmax, init=normal .................................\n"
     ]
    },
    {
     "name": "stderr",
     "output_type": "stream",
     "text": [
      "[Parallel(n_jobs=1)]: Done   5 out of   5 | elapsed:   54.7s remaining:    0.0s\n"
     ]
    },
    {
     "name": "stdout",
     "output_type": "stream",
     "text": [
      "[CV]  activation=softmax, init=normal, score=0.823076926745, total=  10.9s\n",
      "[CV] activation=softmax, init=zero ...................................\n"
     ]
    },
    {
     "name": "stderr",
     "output_type": "stream",
     "text": [
      "[Parallel(n_jobs=1)]: Done   6 out of   6 | elapsed:  1.1min remaining:    0.0s\n"
     ]
    },
    {
     "name": "stdout",
     "output_type": "stream",
     "text": [
      "[CV]  activation=softmax, init=zero, score=0.610687024266, total=  10.7s\n",
      "[CV] activation=softmax, init=zero ...................................\n"
     ]
    },
    {
     "name": "stderr",
     "output_type": "stream",
     "text": [
      "[Parallel(n_jobs=1)]: Done   7 out of   7 | elapsed:  1.3min remaining:    0.0s\n"
     ]
    },
    {
     "name": "stdout",
     "output_type": "stream",
     "text": [
      "[CV]  activation=softmax, init=zero, score=0.69465649583, total=  11.2s\n",
      "[CV] activation=softmax, init=zero ...................................\n"
     ]
    },
    {
     "name": "stderr",
     "output_type": "stream",
     "text": [
      "[Parallel(n_jobs=1)]: Done   8 out of   8 | elapsed:  1.5min remaining:    0.0s\n"
     ]
    },
    {
     "name": "stdout",
     "output_type": "stream",
     "text": [
      "[CV]  activation=softmax, init=zero, score=0.699999988079, total=  11.0s\n",
      "[CV] activation=relu, init=uniform ...................................\n"
     ]
    },
    {
     "name": "stderr",
     "output_type": "stream",
     "text": [
      "[Parallel(n_jobs=1)]: Done   9 out of   9 | elapsed:  1.6min remaining:    0.0s\n"
     ]
    },
    {
     "name": "stdout",
     "output_type": "stream",
     "text": [
      "[CV]  activation=relu, init=uniform, score=0.725190854255, total=  10.9s\n",
      "[CV] activation=relu, init=uniform ...................................\n",
      "[CV]  activation=relu, init=uniform, score=0.755725200395, total=  11.0s\n",
      "[CV] activation=relu, init=uniform ...................................\n",
      "[CV]  activation=relu, init=uniform, score=0.82307692216, total=  11.0s\n",
      "[CV] activation=relu, init=normal ....................................\n",
      "[CV]  activation=relu, init=normal, score=0.717557245538, total=  10.8s\n",
      "[CV] activation=relu, init=normal ....................................\n",
      "[CV]  activation=relu, init=normal, score=0.770992370507, total=  11.3s\n",
      "[CV] activation=relu, init=normal ....................................\n",
      "[CV]  activation=relu, init=normal, score=0.823076926745, total=  11.4s\n",
      "[CV] activation=relu, init=zero ......................................\n",
      "[CV] . activation=relu, init=zero, score=0.610687024266, total=  12.9s\n",
      "[CV] activation=relu, init=zero ......................................\n",
      "[CV] .. activation=relu, init=zero, score=0.69465649583, total=  12.0s\n",
      "[CV] activation=relu, init=zero ......................................\n",
      "[CV] . activation=relu, init=zero, score=0.699999988079, total=  11.8s\n",
      "[CV] activation=tanh, init=uniform ...................................\n",
      "[CV]  activation=tanh, init=uniform, score=0.75572519448, total=  11.9s\n",
      "[CV] activation=tanh, init=uniform ...................................\n",
      "[CV]  activation=tanh, init=uniform, score=0.770992379607, total=  11.9s\n",
      "[CV] activation=tanh, init=uniform ...................................\n",
      "[CV]  activation=tanh, init=uniform, score=0.823076926745, total=  12.7s\n",
      "[CV] activation=tanh, init=normal ....................................\n",
      "[CV]  activation=tanh, init=normal, score=0.763358784086, total=  12.1s\n",
      "[CV] activation=tanh, init=normal ....................................\n",
      "[CV]  activation=tanh, init=normal, score=0.778625969213, total=  11.9s\n",
      "[CV] activation=tanh, init=normal ....................................\n",
      "[CV]  activation=tanh, init=normal, score=0.838461536628, total=  12.4s\n",
      "[CV] activation=tanh, init=zero ......................................\n",
      "[CV] . activation=tanh, init=zero, score=0.610687024266, total=  12.5s\n",
      "[CV] activation=tanh, init=zero ......................................\n",
      "[CV] .. activation=tanh, init=zero, score=0.69465649583, total=  12.7s\n",
      "[CV] activation=tanh, init=zero ......................................\n",
      "[CV] . activation=tanh, init=zero, score=0.699999988079, total=  13.0s\n",
      "[CV] activation=linear, init=uniform .................................\n",
      "[CV]  activation=linear, init=uniform, score=0.770992364592, total=  13.5s\n",
      "[CV] activation=linear, init=uniform .................................\n",
      "[CV]  activation=linear, init=uniform, score=0.763358790001, total=  13.2s\n",
      "[CV] activation=linear, init=uniform .................................\n",
      "[CV]  activation=linear, init=uniform, score=0.846153855324, total=  12.7s\n",
      "[CV] activation=linear, init=normal ..................................\n",
      "[CV]  activation=linear, init=normal, score=0.770992355492, total=  13.3s\n",
      "[CV] activation=linear, init=normal ..................................\n",
      "[CV]  activation=linear, init=normal, score=0.763358790001, total=  13.7s\n",
      "[CV] activation=linear, init=normal ..................................\n",
      "[CV]  activation=linear, init=normal, score=0.838461545797, total=  13.4s\n",
      "[CV] activation=linear, init=zero ....................................\n",
      "[CV]  activation=linear, init=zero, score=0.610687024266, total=  13.3s\n",
      "[CV] activation=linear, init=zero ....................................\n",
      "[CV]  activation=linear, init=zero, score=0.69465649583, total=  13.7s\n",
      "[CV] activation=linear, init=zero ....................................\n",
      "[CV]  activation=linear, init=zero, score=0.699999988079, total=  13.9s\n"
     ]
    },
    {
     "name": "stderr",
     "output_type": "stream",
     "text": [
      "[Parallel(n_jobs=1)]: Done  36 out of  36 | elapsed:  7.2min finished\n",
      "/anaconda2/lib/python2.7/site-packages/sklearn/model_selection/_search.py:841: DeprecationWarning: The default of the `iid` parameter will change from True to False in version 0.22 and will be removed in 0.24. This will change numeric results when test-set sizes are unequal.\n",
      "  DeprecationWarning)\n"
     ]
    },
    {
     "name": "stdout",
     "output_type": "stream",
     "text": [
      "Best: 0.793367353173, using {'activation': 'tanh', 'init': 'normal'}\n",
      "0.775510213661 (0.0280876419549) with: {'activation': 'softmax', 'init': 'uniform'}\n",
      "0.7295918416 (0.088607730181) with: {'activation': 'softmax', 'init': 'normal'}\n",
      "0.668367345874 (0.0409223170112) with: {'activation': 'softmax', 'init': 'zero'}\n",
      "0.767857150612 (0.0408504685813) with: {'activation': 'relu', 'init': 'uniform'}\n",
      "0.770408163721 (0.0430524208589) with: {'activation': 'relu', 'init': 'normal'}\n",
      "0.668367345874 (0.0409223170112) with: {'activation': 'relu', 'init': 'zero'}\n",
      "0.783163272148 (0.0287995885935) with: {'activation': 'tanh', 'init': 'uniform'}\n",
      "0.793367353173 (0.0323717194684) with: {'activation': 'tanh', 'init': 'normal'}\n",
      "0.668367345874 (0.0409223170112) with: {'activation': 'tanh', 'init': 'zero'}\n",
      "0.793367353173 (0.037313655933) with: {'activation': 'linear', 'init': 'uniform'}\n",
      "0.790816329116 (0.0337061659339) with: {'activation': 'linear', 'init': 'normal'}\n",
      "0.668367345874 (0.0409223170112) with: {'activation': 'linear', 'init': 'zero'}\n"
     ]
    }
   ],
   "source": [
    "#How to further improve the alogorithm?\n",
    "#Look to improve kernel_initializer, activation and neurons\n",
    "\n",
    "\n",
    "# Do a grid search for learning rate and dropout rate\n",
    "# import necessary packages\n",
    "from keras.layers import Dropout\n",
    "\n",
    "# Define a random seed\n",
    "seed = 6\n",
    "np.random.seed(seed)\n",
    "\n",
    "# Start defining the model\n",
    "#define model to take activation andl init \n",
    "#remove dropoup out rates\n",
    "def create_model(activation, init):\n",
    "    # create model\n",
    "    model = Sequential()\n",
    "    model.add(Dense(8, input_dim = 8, kernel_initializer=init, activation=activation))\n",
    "    model.add(Dense(4, input_dim = 8, kernel_initializer=init, activation=activation))\n",
    "    model.add(Dense(1, activation='sigmoid'))\n",
    "    \n",
    "    # compile the model\n",
    "    #Hardcode the value of the leatrning rate to the ideal value\n",
    "    adam = Adam(lr = 0.001)\n",
    "    model.compile(loss = 'binary_crossentropy', optimizer = adam, metrics = ['accuracy'])\n",
    "    return model\n",
    "\n",
    "# create the model\n",
    "model = KerasClassifier(build_fn = create_model, epochs = 100, batch_size = 20, verbose = 0)\n",
    "\n",
    "#define grid search parameters\n",
    "activation= ['softmax','relu','tanh','linear']\n",
    "init= ['uniform','normal','zero']\n",
    "\n",
    "\n",
    "# make a dictionary of the grid search parameters\n",
    "param_grid = dict(activation=activation, init=init)\n",
    "\n",
    "# build and fit the GridSearchCV\n",
    "grid = GridSearchCV(estimator = model, param_grid = param_grid, cv = KFold(random_state=seed), verbose = 10)\n",
    "grid_results = grid.fit(X_standardized, Y)\n",
    "\n",
    "# summarize the results\n",
    "print(\"Best: {0}, using {1}\".format(grid_results.best_score_, grid_results.best_params_))\n",
    "means = grid_results.cv_results_['mean_test_score']\n",
    "stds = grid_results.cv_results_['std_test_score']\n",
    "params = grid_results.cv_results_['params']\n",
    "for mean, stdev, param in zip(means, stds, params):\n",
    "    print('{0} ({1}) with: {2}'.format(mean, stdev, param))"
   ]
  },
  {
   "cell_type": "code",
   "execution_count": 20,
   "metadata": {},
   "outputs": [
    {
     "name": "stdout",
     "output_type": "stream",
     "text": [
      "Fitting 3 folds for each of 9 candidates, totalling 27 fits\n",
      "[CV] neuron1=4, neuron2=2 ............................................\n"
     ]
    },
    {
     "name": "stderr",
     "output_type": "stream",
     "text": [
      "[Parallel(n_jobs=1)]: Using backend SequentialBackend with 1 concurrent workers.\n"
     ]
    },
    {
     "name": "stdout",
     "output_type": "stream",
     "text": [
      "[CV] ....... neuron1=4, neuron2=2, score=0.770992364592, total=  34.6s\n",
      "[CV] neuron1=4, neuron2=2 ............................................\n"
     ]
    },
    {
     "name": "stderr",
     "output_type": "stream",
     "text": [
      "[Parallel(n_jobs=1)]: Done   1 out of   1 | elapsed:   34.7s remaining:    0.0s\n"
     ]
    },
    {
     "name": "stdout",
     "output_type": "stream",
     "text": [
      "[CV] ....... neuron1=4, neuron2=2, score=0.770992379607, total=  35.3s\n",
      "[CV] neuron1=4, neuron2=2 ............................................\n"
     ]
    },
    {
     "name": "stderr",
     "output_type": "stream",
     "text": [
      "[Parallel(n_jobs=1)]: Done   2 out of   2 | elapsed:  1.2min remaining:    0.0s\n"
     ]
    },
    {
     "name": "stdout",
     "output_type": "stream",
     "text": [
      "[CV] ....... neuron1=4, neuron2=2, score=0.815384617219, total=  36.5s\n",
      "[CV] neuron1=4, neuron2=4 ............................................\n"
     ]
    },
    {
     "name": "stderr",
     "output_type": "stream",
     "text": [
      "[Parallel(n_jobs=1)]: Done   3 out of   3 | elapsed:  1.8min remaining:    0.0s\n"
     ]
    },
    {
     "name": "stdout",
     "output_type": "stream",
     "text": [
      "[CV] ....... neuron1=4, neuron2=4, score=0.740458024367, total=  35.1s\n",
      "[CV] neuron1=4, neuron2=4 ............................................\n"
     ]
    },
    {
     "name": "stderr",
     "output_type": "stream",
     "text": [
      "[Parallel(n_jobs=1)]: Done   4 out of   4 | elapsed:  2.4min remaining:    0.0s\n"
     ]
    },
    {
     "name": "stdout",
     "output_type": "stream",
     "text": [
      "[CV] ....... neuron1=4, neuron2=4, score=0.770992379607, total=  27.2s\n",
      "[CV] neuron1=4, neuron2=4 ............................................\n"
     ]
    },
    {
     "name": "stderr",
     "output_type": "stream",
     "text": [
      "[Parallel(n_jobs=1)]: Done   5 out of   5 | elapsed:  2.8min remaining:    0.0s\n"
     ]
    },
    {
     "name": "stdout",
     "output_type": "stream",
     "text": [
      "[CV] ....... neuron1=4, neuron2=4, score=0.838461536628, total=  14.8s\n",
      "[CV] neuron1=4, neuron2=8 ............................................\n"
     ]
    },
    {
     "name": "stderr",
     "output_type": "stream",
     "text": [
      "[Parallel(n_jobs=1)]: Done   6 out of   6 | elapsed:  3.1min remaining:    0.0s\n"
     ]
    },
    {
     "name": "stdout",
     "output_type": "stream",
     "text": [
      "[CV] ....... neuron1=4, neuron2=8, score=0.748091604873, total=  15.0s\n",
      "[CV] neuron1=4, neuron2=8 ............................................\n"
     ]
    },
    {
     "name": "stderr",
     "output_type": "stream",
     "text": [
      "[Parallel(n_jobs=1)]: Done   7 out of   7 | elapsed:  3.3min remaining:    0.0s\n"
     ]
    },
    {
     "name": "stdout",
     "output_type": "stream",
     "text": [
      "[CV] ....... neuron1=4, neuron2=8, score=0.770992379607, total=  15.1s\n",
      "[CV] neuron1=4, neuron2=8 ............................................\n"
     ]
    },
    {
     "name": "stderr",
     "output_type": "stream",
     "text": [
      "[Parallel(n_jobs=1)]: Done   8 out of   8 | elapsed:  3.6min remaining:    0.0s\n"
     ]
    },
    {
     "name": "stdout",
     "output_type": "stream",
     "text": [
      "[CV] ....... neuron1=4, neuron2=8, score=0.815384617219, total=  15.2s\n",
      "[CV] neuron1=8, neuron2=2 ............................................\n"
     ]
    },
    {
     "name": "stderr",
     "output_type": "stream",
     "text": [
      "[Parallel(n_jobs=1)]: Done   9 out of   9 | elapsed:  3.8min remaining:    0.0s\n"
     ]
    },
    {
     "name": "stdout",
     "output_type": "stream",
     "text": [
      "[CV] ....... neuron1=8, neuron2=2, score=0.740458024367, total=  15.3s\n",
      "[CV] neuron1=8, neuron2=2 ............................................\n",
      "[CV] ....... neuron1=8, neuron2=2, score=0.770992379607, total=  15.3s\n",
      "[CV] neuron1=8, neuron2=2 ............................................\n",
      "[CV] ....... neuron1=8, neuron2=2, score=0.823076926745, total=  15.5s\n",
      "[CV] neuron1=8, neuron2=4 ............................................\n",
      "[CV] ....... neuron1=8, neuron2=4, score=0.748091604873, total=  15.2s\n",
      "[CV] neuron1=8, neuron2=4 ............................................\n",
      "[CV] ....... neuron1=8, neuron2=4, score=0.770992379607, total=  15.8s\n",
      "[CV] neuron1=8, neuron2=4 ............................................\n",
      "[CV] ....... neuron1=8, neuron2=4, score=0.815384617219, total=  16.0s\n",
      "[CV] neuron1=8, neuron2=8 ............................................\n",
      "[CV] ....... neuron1=8, neuron2=8, score=0.748091604873, total=  16.0s\n",
      "[CV] neuron1=8, neuron2=8 ............................................\n",
      "[CV] ....... neuron1=8, neuron2=8, score=0.778625969213, total=  16.1s\n",
      "[CV] neuron1=8, neuron2=8 ............................................\n",
      "[CV] ....... neuron1=8, neuron2=8, score=0.830769227101, total=  16.3s\n",
      "[CV] neuron1=16, neuron2=2 ...........................................\n",
      "[CV] ....... neuron1=16, neuron2=2, score=0.75572519448, total=  16.4s\n",
      "[CV] neuron1=16, neuron2=2 ...........................................\n",
      "[CV] ...... neuron1=16, neuron2=2, score=0.778625969213, total=  16.6s\n",
      "[CV] neuron1=16, neuron2=2 ...........................................\n",
      "[CV] ...... neuron1=16, neuron2=2, score=0.815384617219, total=  16.3s\n",
      "[CV] neuron1=16, neuron2=4 ...........................................\n",
      "[CV] ...... neuron1=16, neuron2=4, score=0.763358784086, total=  16.7s\n",
      "[CV] neuron1=16, neuron2=4 ...........................................\n",
      "[CV] ...... neuron1=16, neuron2=4, score=0.778625969213, total=  16.3s\n",
      "[CV] neuron1=16, neuron2=4 ...........................................\n",
      "[CV] ...... neuron1=16, neuron2=4, score=0.838461536628, total=  17.0s\n",
      "[CV] neuron1=16, neuron2=8 ...........................................\n",
      "[CV] ...... neuron1=16, neuron2=8, score=0.770992364592, total=  17.1s\n",
      "[CV] neuron1=16, neuron2=8 ...........................................\n",
      "[CV] ...... neuron1=16, neuron2=8, score=0.778625969213, total=  17.3s\n",
      "[CV] neuron1=16, neuron2=8 ...........................................\n",
      "[CV] ...... neuron1=16, neuron2=8, score=0.830769227101, total=  17.5s\n"
     ]
    },
    {
     "name": "stderr",
     "output_type": "stream",
     "text": [
      "[Parallel(n_jobs=1)]: Done  27 out of  27 | elapsed:  8.7min finished\n"
     ]
    },
    {
     "name": "stdout",
     "output_type": "stream",
     "text": [
      "Best: 0.793367353173, using {'neuron1': 16, 'neuron2': 4}\n",
      "0.785714290124 (0.0208998594072) with: {'neuron1': 4, 'neuron2': 2}\n",
      "0.783163272148 (0.0409031197857) with: {'neuron1': 4, 'neuron2': 4}\n",
      "0.778061230116 (0.0279075481396) with: {'neuron1': 4, 'neuron2': 8}\n",
      "0.778061233157 (0.0340772575589) with: {'neuron1': 8, 'neuron2': 2}\n",
      "0.778061230116 (0.0279075481396) with: {'neuron1': 8, 'neuron2': 4}\n",
      "0.785714290124 (0.0341029826096) with: {'neuron1': 8, 'neuron2': 8}\n",
      "0.783163272148 (0.0245514856003) with: {'neuron1': 16, 'neuron2': 2}\n",
      "0.793367353173 (0.0323717194684) with: {'neuron1': 16, 'neuron2': 4}\n",
      "0.793367350132 (0.0265301271759) with: {'neuron1': 16, 'neuron2': 8}\n"
     ]
    }
   ],
   "source": [
    "#Begin tunning the ideal number of neurons to be used\n",
    "\n",
    "#How to further improve the alogorithm?\n",
    "#Look to improve kernel_initializer, activation and neurons\n",
    "\n",
    "\n",
    "# Do a grid search for learning rate and dropout rate\n",
    "# import necessary packages\n",
    "from keras.layers import Dropout\n",
    "\n",
    "# Define a random seed\n",
    "seed = 6\n",
    "np.random.seed(seed)\n",
    "\n",
    "# Start defining the model\n",
    "#define model to take activation andl init \n",
    "#remove dropoup out rates\n",
    "def create_model(neuron1,neuron2):\n",
    "    # create model\n",
    "    model = Sequential()\n",
    "    model.add(Dense(8, input_dim = 8, kernel_initializer='normal', activation='tanh'))\n",
    "    model.add(Dense(4, input_dim = 8, kernel_initializer='normal', activation='tanh'))\n",
    "    model.add(Dense(1, activation='sigmoid'))\n",
    "    \n",
    "    # compile the model\n",
    "    #Hardcode the value of the leatrning rate to the ideal value\n",
    "    adam = Adam(lr = 0.001)\n",
    "    model.compile(loss = 'binary_crossentropy', optimizer = adam, metrics = ['accuracy'])\n",
    "    return model\n",
    "\n",
    "# create the model\n",
    "model = KerasClassifier(build_fn = create_model, epochs = 100, batch_size = 20, verbose = 0)\n",
    "\n",
    "#define grid search parameters\n",
    "neuron1= [4,8,16]\n",
    "neuron2 = [2,4,8]\n",
    "\n",
    "# make a dictionary of the grid search parameters\n",
    "param_grid = dict(neuron1= neuron1, neuron2=neuron2)\n",
    "\n",
    "# build and fit the GridSearchCV\n",
    "grid = GridSearchCV(estimator = model, param_grid = param_grid, cv = KFold(random_state=seed),refit=True, verbose = 10)\n",
    "grid_results = grid.fit(X_standardized, Y)\n",
    "\n",
    "# summarize the results\n",
    "print(\"Best: {0}, using {1}\".format(grid_results.best_score_, grid_results.best_params_))\n",
    "means = grid_results.cv_results_['mean_test_score']\n",
    "stds = grid_results.cv_results_['std_test_score']\n",
    "params = grid_results.cv_results_['params']\n",
    "for mean, stdev, param in zip(means, stds, params):\n",
    "    print('{0} ({1}) with: {2}'.format(mean, stdev, param))"
   ]
  },
  {
   "cell_type": "code",
   "execution_count": 21,
   "metadata": {},
   "outputs": [],
   "source": [
    "#Best neuron quantity as seen above is 16 neurons for the first layer\n",
    "#And 4 neurons for the  \n",
    "y_pred= grid.predict(X_standardized)"
   ]
  },
  {
   "cell_type": "code",
   "execution_count": 22,
   "metadata": {},
   "outputs": [
    {
     "name": "stdout",
     "output_type": "stream",
     "text": [
      "(392, 1)\n"
     ]
    }
   ],
   "source": [
    "print(y_pred.shape)"
   ]
  },
  {
   "cell_type": "code",
   "execution_count": 23,
   "metadata": {},
   "outputs": [
    {
     "name": "stdout",
     "output_type": "stream",
     "text": [
      "[[0]\n",
      " [1]\n",
      " [0]\n",
      " [1]\n",
      " [1]]\n"
     ]
    }
   ],
   "source": [
    "print (y_pred[:5])\n"
   ]
  },
  {
   "cell_type": "code",
   "execution_count": 25,
   "metadata": {},
   "outputs": [
    {
     "name": "stdout",
     "output_type": "stream",
     "text": [
      "0.7959183673469388\n",
      "              precision    recall  f1-score   support\n",
      "\n",
      "           0       0.83      0.87      0.85       262\n",
      "           1       0.71      0.65      0.68       130\n",
      "\n",
      "   micro avg       0.80      0.80      0.80       392\n",
      "   macro avg       0.77      0.76      0.76       392\n",
      "weighted avg       0.79      0.80      0.79       392\n",
      "\n"
     ]
    }
   ],
   "source": [
    "#Create a classification report and an accuracy score \n",
    "#Using the testing data\n",
    "\n",
    "from sklearn.metrics import classification_report, accuracy_score\n",
    "\n",
    "print (accuracy_score(Y,y_pred))\n",
    "print (classification_report(Y, y_pred))"
   ]
  },
  {
   "cell_type": "code",
   "execution_count": 26,
   "metadata": {},
   "outputs": [
    {
     "name": "stdout",
     "output_type": "stream",
     "text": [
      "n_preganant                 0.000\n",
      "glucose_concentration     137.000\n",
      "blood_pressure(mm Hg)      40.000\n",
      "skin_thickness             35.000\n",
      "serum_insulin(mu U/ml)    168.000\n",
      "BMI                        43.100\n",
      "pedrigree_function          2.288\n",
      "age                        33.000\n",
      "class                       1.000\n",
      "Name: 4, dtype: float64\n"
     ]
    }
   ],
   "source": [
    "#All of the above data is extremely relavnet in the medical field\n",
    "#We can see false positives\n",
    "#We can see we also have false negatives\n",
    "\n",
    "#--------------------------------------------------------->\n",
    "\n",
    "#Lets try and predict a sample patients diagnosis \n",
    "\n",
    "example = df.iloc[1]\n",
    "print (example)\n",
    "\n"
   ]
  },
  {
   "cell_type": "code",
   "execution_count": 34,
   "metadata": {},
   "outputs": [
    {
     "name": "stdout",
     "output_type": "stream",
     "text": [
      "Prediction: Patient has diabetes\n",
      "Actual: Patient has diabetes\n",
      "SUCCESSFUL PREDICTION!!!!\n"
     ]
    }
   ],
   "source": [
    "#make prediction using otimized deep neural network\n",
    "prediction= grid.predict(X_standardized[1].reshape(1,-1))\n",
    "\n",
    "if (prediction==1):\n",
    "    print ('Prediction: Patient has diabetes')\n",
    "    \n",
    "else:\n",
    "    print ('Predition: Patient is healthy')\n",
    "    \n",
    "if (example['class']==1):\n",
    "    print ('Actual: Patient has diabetes')\n",
    "    \n",
    "else:\n",
    "    print ('Actual: Patient is healthy')\n",
    "    \n",
    "    \n",
    "\n",
    "if (prediction==example['class']):\n",
    "    print('SUCCESSFUL PREDICTION!!!!')\n"
   ]
  },
  {
   "cell_type": "code",
   "execution_count": null,
   "metadata": {},
   "outputs": [],
   "source": []
  }
 ],
 "metadata": {
  "kernelspec": {
   "display_name": "Python 2",
   "language": "python",
   "name": "python2"
  },
  "language_info": {
   "codemirror_mode": {
    "name": "ipython",
    "version": 2
   },
   "file_extension": ".py",
   "mimetype": "text/x-python",
   "name": "python",
   "nbconvert_exporter": "python",
   "pygments_lexer": "ipython2",
   "version": "2.7.15"
  }
 },
 "nbformat": 4,
 "nbformat_minor": 2
}
